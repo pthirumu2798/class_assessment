{
  "nbformat": 4,
  "nbformat_minor": 0,
  "metadata": {
    "colab": {
      "provenance": [],
      "authorship_tag": "ABX9TyNiMy0KyxBCTzcIZ56GLM6d",
      "include_colab_link": true
    },
    "kernelspec": {
      "name": "python3",
      "display_name": "Python 3"
    },
    "language_info": {
      "name": "python"
    }
  },
  "cells": [
    {
      "cell_type": "markdown",
      "metadata": {
        "id": "view-in-github",
        "colab_type": "text"
      },
      "source": [
        "<a href=\"https://colab.research.google.com/github/pthirumu2798/class_assessment/blob/Task-5-Calculator/WK04_Tuple.ipynb\" target=\"_parent\"><img src=\"https://colab.research.google.com/assets/colab-badge.svg\" alt=\"Open In Colab\"/></a>"
      ]
    },
    {
      "cell_type": "code",
      "execution_count": 3,
      "metadata": {
        "colab": {
          "base_uri": "https://localhost:8080/",
          "height": 0
        },
        "id": "9pyIOJSTF8Do",
        "outputId": "78cd7518-099a-4dd0-b216-d250ddb582a6"
      },
      "outputs": [
        {
          "output_type": "stream",
          "name": "stdout",
          "text": [
            "()\n",
            "()\n",
            "<class 'tuple'>\n",
            "<class 'tuple'>\n"
          ]
        }
      ],
      "source": [
        "empty_typle1=()\n",
        "empty_typle2= tuple()\n",
        "print(empty_typle1)\n",
        "print(empty_typle2)\n",
        "\n",
        "print(type(empty_typle1))\n",
        "print(type(empty_typle2))"
      ]
    },
    {
      "cell_type": "code",
      "source": [
        "help(type)"
      ],
      "metadata": {
        "colab": {
          "base_uri": "https://localhost:8080/",
          "height": 0
        },
        "id": "lFQfu98yH5xB",
        "outputId": "c19d8796-6ad8-4058-fa94-94b54ac96b84"
      },
      "execution_count": 5,
      "outputs": [
        {
          "output_type": "stream",
          "name": "stdout",
          "text": [
            "Help on class type in module builtins:\n",
            "\n",
            "class type(object)\n",
            " |  type(object) -> the object's type\n",
            " |  type(name, bases, dict, **kwds) -> a new type\n",
            " |  \n",
            " |  Methods defined here:\n",
            " |  \n",
            " |  __call__(self, /, *args, **kwargs)\n",
            " |      Call self as a function.\n",
            " |  \n",
            " |  __delattr__(self, name, /)\n",
            " |      Implement delattr(self, name).\n",
            " |  \n",
            " |  __dir__(self, /)\n",
            " |      Specialized __dir__ implementation for types.\n",
            " |  \n",
            " |  __getattribute__(self, name, /)\n",
            " |      Return getattr(self, name).\n",
            " |  \n",
            " |  __init__(self, /, *args, **kwargs)\n",
            " |      Initialize self.  See help(type(self)) for accurate signature.\n",
            " |  \n",
            " |  __instancecheck__(self, instance, /)\n",
            " |      Check if an object is an instance.\n",
            " |  \n",
            " |  __or__(self, value, /)\n",
            " |      Return self|value.\n",
            " |  \n",
            " |  __repr__(self, /)\n",
            " |      Return repr(self).\n",
            " |  \n",
            " |  __ror__(self, value, /)\n",
            " |      Return value|self.\n",
            " |  \n",
            " |  __setattr__(self, name, value, /)\n",
            " |      Implement setattr(self, name, value).\n",
            " |  \n",
            " |  __sizeof__(self, /)\n",
            " |      Return memory consumption of the type object.\n",
            " |  \n",
            " |  __subclasscheck__(self, subclass, /)\n",
            " |      Check if a class is a subclass.\n",
            " |  \n",
            " |  __subclasses__(self, /)\n",
            " |      Return a list of immediate subclasses.\n",
            " |  \n",
            " |  mro(self, /)\n",
            " |      Return a type's method resolution order.\n",
            " |  \n",
            " |  ----------------------------------------------------------------------\n",
            " |  Class methods defined here:\n",
            " |  \n",
            " |  __prepare__(...)\n",
            " |      __prepare__() -> dict\n",
            " |      used to create the namespace for the class statement\n",
            " |  \n",
            " |  ----------------------------------------------------------------------\n",
            " |  Static methods defined here:\n",
            " |  \n",
            " |  __new__(*args, **kwargs)\n",
            " |      Create and return a new object.  See help(type) for accurate signature.\n",
            " |  \n",
            " |  ----------------------------------------------------------------------\n",
            " |  Data descriptors defined here:\n",
            " |  \n",
            " |  __abstractmethods__\n",
            " |  \n",
            " |  __annotations__\n",
            " |  \n",
            " |  __dict__\n",
            " |  \n",
            " |  __text_signature__\n",
            " |  \n",
            " |  ----------------------------------------------------------------------\n",
            " |  Data and other attributes defined here:\n",
            " |  \n",
            " |  __base__ = <class 'object'>\n",
            " |      The base class of the class hierarchy.\n",
            " |      \n",
            " |      When called, it accepts no arguments and returns a new featureless\n",
            " |      instance that has no instance attributes and cannot be given any.\n",
            " |  \n",
            " |  \n",
            " |  __bases__ = (<class 'object'>,)\n",
            " |  \n",
            " |  __basicsize__ = 904\n",
            " |  \n",
            " |  __dictoffset__ = 264\n",
            " |  \n",
            " |  __flags__ = 2148031744\n",
            " |  \n",
            " |  __itemsize__ = 40\n",
            " |  \n",
            " |  __mro__ = (<class 'type'>, <class 'object'>)\n",
            " |  \n",
            " |  __weakrefoffset__ = 368\n",
            "\n"
          ]
        }
      ]
    },
    {
      "cell_type": "code",
      "source": [
        "print(type( (78,)), type ( (78) ))\n",
        "print(type( (78,)), type ( (78) ))\n",
        "v1 = 78,\n",
        "v2 = 78\n",
        "print(type(v1), type(v2))"
      ],
      "metadata": {
        "colab": {
          "base_uri": "https://localhost:8080/",
          "height": 0
        },
        "id": "DDfllNeBHN01",
        "outputId": "579ddf2f-1a2f-49a1-8b13-3822fb6160e7"
      },
      "execution_count": 4,
      "outputs": [
        {
          "output_type": "stream",
          "name": "stdout",
          "text": [
            "<class 'tuple'> <class 'int'>\n",
            "<class 'tuple'> <class 'int'>\n",
            "<class 'tuple'> <class 'int'>\n"
          ]
        }
      ]
    },
    {
      "cell_type": "code",
      "source": [
        "print((\"The Holy Grail\", 1975, 9.99))"
      ],
      "metadata": {
        "colab": {
          "base_uri": "https://localhost:8080/",
          "height": 0
        },
        "id": "_WcE9_cXJIbR",
        "outputId": "da4f41a9-5bfd-4a8a-fcd9-bfe936b340de"
      },
      "execution_count": 7,
      "outputs": [
        {
          "output_type": "stream",
          "name": "stdout",
          "text": [
            "('The Holy Grail', 1975, 9.99)\n"
          ]
        }
      ]
    },
    {
      "cell_type": "code",
      "source": [
        "students = (('Thirumuru', 85, 95, 70),\n",
        "            ('Pranith', 95, 100, 100, 88),\n",
        "            ('Kumar', 77, 70))\n",
        "\n",
        "print(len(students))\n",
        "print(students[1], students[-2])\n",
        "print(students[2])\n",
        "print(students[2][1])"
      ],
      "metadata": {
        "colab": {
          "base_uri": "https://localhost:8080/",
          "height": 0
        },
        "id": "J9q_GxuNKgpS",
        "outputId": "dad8ea45-34d3-44f8-bcc7-a707100a2fe6"
      },
      "execution_count": 14,
      "outputs": [
        {
          "output_type": "stream",
          "name": "stdout",
          "text": [
            "3\n",
            "('Pranith', 95, 100, 100, 88) ('Pranith', 95, 100, 100, 88)\n",
            "('Kumar', 77, 70)\n",
            "77\n"
          ]
        }
      ]
    },
    {
      "cell_type": "code",
      "source": [
        "score = (100,)*3\n",
        "print(score)\n",
        "\n",
        "score *=2\n",
        "print(score)\n",
        "print((1,2) +('a',))\n",
        "#print((1,2)+('a'))  #type error"
      ],
      "metadata": {
        "colab": {
          "base_uri": "https://localhost:8080/",
          "height": 0
        },
        "id": "oNH_u8BFSXIc",
        "outputId": "033a9a02-4fac-469f-ee3d-b1b494c82fc6"
      },
      "execution_count": 15,
      "outputs": [
        {
          "output_type": "stream",
          "name": "stdout",
          "text": [
            "(100, 100, 100)\n",
            "(100, 100, 100, 100, 100, 100)\n",
            "(1, 2, 'a')\n"
          ]
        }
      ]
    },
    {
      "cell_type": "code",
      "source": [
        "list1, list2, list3 = [2,1],[2,1,4],[]\n",
        "tuple1, tuple2, tuple3=(2,1),(2,1,4),()\n",
        "\n",
        "print(min(list1), min(list2,list3))\n",
        "print(min(tuple1), min(tuple2,tuple3))\n",
        "\n",
        "print(max(list1), max(list2 , list3))\n",
        "print(max(tuple1), max(tuple2 , tuple3))"
      ],
      "metadata": {
        "colab": {
          "base_uri": "https://localhost:8080/",
          "height": 0
        },
        "id": "J4cx5rjSSYaJ",
        "outputId": "6a2ea635-55cb-4ac6-d00e-0210ae4ac460"
      },
      "execution_count": 16,
      "outputs": [
        {
          "output_type": "stream",
          "name": "stdout",
          "text": [
            "1 []\n",
            "1 ()\n",
            "2 [2, 1, 4]\n",
            "2 (2, 1, 4)\n"
          ]
        }
      ]
    },
    {
      "cell_type": "code",
      "source": [
        "false_true ='ny'\n",
        "print(f'{false_true[False]=}')\n",
        "print(f'{false_true[True]=}')\n",
        "\n",
        "false_true = 'disagree','agree'\n",
        "print(f\"{type(false_true)=}\")\n",
        "print(f\"{false_true[False]=}\")\n",
        "print(f\"{false_true[True]=}\")\n"
      ],
      "metadata": {
        "colab": {
          "base_uri": "https://localhost:8080/",
          "height": 0
        },
        "id": "Bo3bih0_Sd2W",
        "outputId": "6e3b62c2-268a-42e7-e0c1-728adab91650"
      },
      "execution_count": 17,
      "outputs": [
        {
          "output_type": "stream",
          "name": "stdout",
          "text": [
            "false_true[False]='n'\n",
            "false_true[True]='y'\n",
            "type(false_true)=<class 'tuple'>\n",
            "false_true[False]='disagree'\n",
            "false_true[True]='agree'\n"
          ]
        }
      ]
    },
    {
      "cell_type": "code",
      "source": [
        "fruits1= ['lime','pear','cherry','grape','orange']\n",
        "fruits2= ('lime','pear','cherry','grape','orange')\n",
        "\n",
        "#start:stop:step\n",
        "print(fruits1[-1:1:-1])\n",
        "\n",
        "x=slice(-1,1,-1)\n",
        "print(fruits2[x])\n",
        "\n",
        "#lime , cherry , orange\n",
        "x=slice(0,6,2)\n",
        "print(fruits2[x])\n",
        "\n",
        "#lime , pear, cherry\n",
        "x=slice(0,3,1)\n",
        "print(fruits2[x])\n",
        "\n",
        "#lime , cherry\n",
        "x=slice(0,3,2)\n",
        "print(fruits2[x])\n",
        "\n",
        "#grape, orange\n",
        "x=slice(3,5,1)\n",
        "print(fruits2[x])\n",
        "\n",
        "\n",
        "#reversed\n",
        "x=slice(None,None,-1)\n",
        "print(fruits2[x])\n",
        "\n",
        "# same\n",
        "x=slice(None,None,1)\n",
        "print(fruits2[x])"
      ],
      "metadata": {
        "colab": {
          "base_uri": "https://localhost:8080/",
          "height": 0
        },
        "id": "jM9uWK0wToBh",
        "outputId": "4e4e7ba0-3571-4d95-cf27-7278376dc93b"
      },
      "execution_count": 18,
      "outputs": [
        {
          "output_type": "stream",
          "name": "stdout",
          "text": [
            "['orange', 'grape', 'cherry']\n",
            "('orange', 'grape', 'cherry')\n",
            "('lime', 'cherry', 'orange')\n",
            "('lime', 'pear', 'cherry')\n",
            "('lime', 'cherry')\n",
            "('grape', 'orange')\n",
            "('orange', 'grape', 'cherry', 'pear', 'lime')\n",
            "('lime', 'pear', 'cherry', 'grape', 'orange')\n"
          ]
        }
      ]
    },
    {
      "cell_type": "code",
      "source": [
        "fruits1= ['lime','pear','cherry','grape','orange']\n",
        "fruits2= ('lime','pear', 'cherry', 'grape', 'orange')\n",
        "fruits3= ('lime',['pear'],'cherry','grape','orange')\n",
        "\n",
        "#Change pear to apple\n",
        "fruits1[1]='apple'\n",
        "print(fruits1)\n",
        "\n",
        "#fruits2[1]='apple' #WE Can't update tuple\n",
        "\n",
        "fruits3[1][0]='apple'\n",
        "print(fruits3)\n",
        "\n",
        "#Change 'cherry' and 'orange' to 'guave' and 'avacado'\n",
        "fruits1[2:4]=['guave', 'avacdo']\n",
        "print(fruits1)"
      ],
      "metadata": {
        "colab": {
          "base_uri": "https://localhost:8080/",
          "height": 0
        },
        "id": "fZo-pdlJWOFS",
        "outputId": "d3008edb-54b8-445e-d56c-ac42638d6ef4"
      },
      "execution_count": 19,
      "outputs": [
        {
          "output_type": "stream",
          "name": "stdout",
          "text": [
            "['lime', 'apple', 'cherry', 'grape', 'orange']\n",
            "('lime', ['apple'], 'cherry', 'grape', 'orange')\n",
            "['lime', 'apple', 'guave', 'avacdo', 'orange']\n"
          ]
        }
      ]
    },
    {
      "cell_type": "code",
      "source": [
        "#pack\n",
        "class_enrl1 = ['Python', 25]\n",
        "class_enrl2 = 'Java', 30\n",
        "print(class_enrl1, class_enrl2)\n",
        "\n",
        "#unpack\n",
        "course_name1, student_count1 = class_enrl1\n",
        "course_name2, student_count2 = class_enrl2\n",
        "print(course_name1, student_count1)\n",
        "print(course_name2, student_count2)\n",
        "\n"
      ],
      "metadata": {
        "colab": {
          "base_uri": "https://localhost:8080/",
          "height": 0
        },
        "id": "sqgQ4vOHZCA_",
        "outputId": "37f6aa03-d82f-4d14-e7ca-aa34808ca069"
      },
      "execution_count": 20,
      "outputs": [
        {
          "output_type": "stream",
          "name": "stdout",
          "text": [
            "['Python', 25] ('Java', 30)\n",
            "Python 25\n",
            "Java 30\n"
          ]
        }
      ]
    },
    {
      "cell_type": "code",
      "source": [
        "from re import A\n",
        "#swap\n",
        "a, b =10,20\n",
        "print(a,b)\n",
        "a,b =b,a\n",
        "print(a,b)\n",
        "\n",
        "#Swap\n",
        "a , b , c =10,20,30\n",
        "print(a,b,c)\n",
        "a,b,c = b,c,a\n",
        "print(a,b,c)"
      ],
      "metadata": {
        "colab": {
          "base_uri": "https://localhost:8080/",
          "height": 0
        },
        "id": "xFH84ApObL4w",
        "outputId": "b19fe199-7bbd-4cf2-b782-fbc2604fd4f5"
      },
      "execution_count": 22,
      "outputs": [
        {
          "output_type": "stream",
          "name": "stdout",
          "text": [
            "10 20\n",
            "20 10\n",
            "10 20 30\n",
            "20 30 10\n"
          ]
        }
      ]
    },
    {
      "cell_type": "code",
      "source": [],
      "metadata": {
        "id": "cNSzGxn3bf7X"
      },
      "execution_count": null,
      "outputs": []
    }
  ]
}